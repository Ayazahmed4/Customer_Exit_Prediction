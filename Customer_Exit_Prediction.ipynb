{
 "cells": [
  {
   "cell_type": "code",
   "execution_count": 1,
   "id": "e1f4aa6c",
   "metadata": {},
   "outputs": [],
   "source": [
    "# Importing libraries\n",
    "import numpy as np\n",
    "import matplotlib.pyplot as plt\n",
    "import pandas as pd"
   ]
  },
  {
   "cell_type": "code",
   "execution_count": 2,
   "id": "0535a3cf",
   "metadata": {},
   "outputs": [],
   "source": [
    "# Reading the dataset\n",
    "dataset = pd.read_csv('BankCustomers.csv')\n",
    "X = dataset.iloc[:, 3:13]\n",
    "y = dataset.iloc[:, 13]"
   ]
  },
  {
   "cell_type": "code",
   "execution_count": 3,
   "id": "48c69929",
   "metadata": {},
   "outputs": [],
   "source": [
    "# Convert the categorical features into one-hot encoding\n",
    "states = pd.get_dummies(X['Geography'], drop_first=True)\n",
    "gender = pd.get_dummies(X['Gender'], drop_first=True)"
   ]
  },
  {
   "cell_type": "code",
   "execution_count": 4,
   "id": "70aadfd8",
   "metadata": {},
   "outputs": [],
   "source": [
    "# Drop the 'Geography' and the 'Gender' columns\n",
    "X = X.drop(['Geography', 'Gender'], axis=1)"
   ]
  },
  {
   "cell_type": "code",
   "execution_count": 5,
   "id": "09b9e0fa",
   "metadata": {},
   "outputs": [],
   "source": [
    "# Concatenate the one-hot encoded columns to the dataset\n",
    "X = pd.concat([X, states, gender], axis=1)"
   ]
  },
  {
   "cell_type": "code",
   "execution_count": 6,
   "id": "000b8839",
   "metadata": {},
   "outputs": [],
   "source": [
    "# Split the dataset into training and testing set\n",
    "from sklearn.model_selection import train_test_split\n",
    "X_train, X_test, y_train, y_test = train_test_split(X, y, test_size=0.2, random_state=0)"
   ]
  },
  {
   "cell_type": "code",
   "execution_count": 7,
   "id": "261f7506",
   "metadata": {},
   "outputs": [],
   "source": [
    "# Feature Scaling\n",
    "from sklearn.preprocessing import StandardScaler\n",
    "sc = StandardScaler()\n",
    "X_train = sc.fit_transform(X_train)\n",
    "X_test = sc.fit_transform(X_test)"
   ]
  },
  {
   "cell_type": "code",
   "execution_count": 8,
   "id": "82f814fe",
   "metadata": {},
   "outputs": [],
   "source": [
    "# Building the netowrk\n",
    "import keras\n",
    "from keras.models import Sequential\n",
    "from keras.layers.core import Dense"
   ]
  },
  {
   "cell_type": "code",
   "execution_count": 9,
   "id": "32d40188",
   "metadata": {},
   "outputs": [],
   "source": [
    "# Initializing the network\n",
    "classifier = Sequential()\n",
    "\n",
    "classifier.add(Dense(activation='relu', input_dim=11, units=6, kernel_initializer=\"uniform\"))\n",
    "\n",
    "classifier.add(Dense(activation=\"relu\", units=6, kernel_initializer=\"uniform\"))\n",
    "\n",
    "classifier.add(Dense(activation=\"sigmoid\", units=1, kernel_initializer=\"uniform\"))"
   ]
  },
  {
   "cell_type": "code",
   "execution_count": 10,
   "id": "8557fb83",
   "metadata": {},
   "outputs": [
    {
     "name": "stdout",
     "output_type": "stream",
     "text": [
      "Model: \"sequential\"\n",
      "_________________________________________________________________\n",
      "Layer (type)                 Output Shape              Param #   \n",
      "=================================================================\n",
      "dense (Dense)                (None, 6)                 72        \n",
      "_________________________________________________________________\n",
      "dense_1 (Dense)              (None, 6)                 42        \n",
      "_________________________________________________________________\n",
      "dense_2 (Dense)              (None, 1)                 7         \n",
      "=================================================================\n",
      "Total params: 121\n",
      "Trainable params: 121\n",
      "Non-trainable params: 0\n",
      "_________________________________________________________________\n"
     ]
    }
   ],
   "source": [
    "classifier.summary()"
   ]
  },
  {
   "cell_type": "code",
   "execution_count": 12,
   "id": "76a355e2",
   "metadata": {},
   "outputs": [],
   "source": [
    "# Compiling the network\n",
    "classifier.compile(optimizer=\"adam\", loss=\"binary_crossentropy\", metrics=[\"accuracy\"])"
   ]
  },
  {
   "cell_type": "code",
   "execution_count": 14,
   "id": "b9e24385",
   "metadata": {},
   "outputs": [
    {
     "name": "stdout",
     "output_type": "stream",
     "text": [
      "Epoch 1/50\n",
      "800/800 [==============================] - 20s 838us/step - loss: 0.5713 - accuracy: 0.7891\n",
      "Epoch 2/50\n",
      "800/800 [==============================] - 1s 833us/step - loss: 0.4351 - accuracy: 0.7894\n",
      "Epoch 3/50\n",
      "800/800 [==============================] - 1s 1ms/step - loss: 0.4202 - accuracy: 0.7962\n",
      "Epoch 4/50\n",
      "800/800 [==============================] - 1s 821us/step - loss: 0.4222 - accuracy: 0.7979\n",
      "Epoch 5/50\n",
      "800/800 [==============================] - 1s 848us/step - loss: 0.4039 - accuracy: 0.8315\n",
      "Epoch 6/50\n",
      "800/800 [==============================] - 1s 856us/step - loss: 0.4245 - accuracy: 0.8231\n",
      "Epoch 7/50\n",
      "800/800 [==============================] - 1s 974us/step - loss: 0.4123 - accuracy: 0.8311\n",
      "Epoch 8/50\n",
      "800/800 [==============================] - 1s 889us/step - loss: 0.4142 - accuracy: 0.8308\n",
      "Epoch 9/50\n",
      "800/800 [==============================] - 1s 776us/step - loss: 0.4159 - accuracy: 0.8301\n",
      "Epoch 10/50\n",
      "800/800 [==============================] - 1s 879us/step - loss: 0.4117 - accuracy: 0.8346\n",
      "Epoch 11/50\n",
      "800/800 [==============================] - 1s 892us/step - loss: 0.4079 - accuracy: 0.8348\n",
      "Epoch 12/50\n",
      "800/800 [==============================] - 1s 836us/step - loss: 0.4074 - accuracy: 0.8312\n",
      "Epoch 13/50\n",
      "800/800 [==============================] - 1s 1ms/step - loss: 0.3965 - accuracy: 0.8377\n",
      "Epoch 14/50\n",
      "800/800 [==============================] - 1s 858us/step - loss: 0.4086 - accuracy: 0.8342\n",
      "Epoch 15/50\n",
      "800/800 [==============================] - 1s 855us/step - loss: 0.4000 - accuracy: 0.8373\n",
      "Epoch 16/50\n",
      "800/800 [==============================] - 1s 860us/step - loss: 0.4087 - accuracy: 0.8320\n",
      "Epoch 17/50\n",
      "800/800 [==============================] - 1s 942us/step - loss: 0.4110 - accuracy: 0.8271\n",
      "Epoch 18/50\n",
      "800/800 [==============================] - 1s 917us/step - loss: 0.4031 - accuracy: 0.8341\n",
      "Epoch 19/50\n",
      "800/800 [==============================] - 1s 902us/step - loss: 0.4081 - accuracy: 0.8355\n",
      "Epoch 20/50\n",
      "800/800 [==============================] - 1s 936us/step - loss: 0.4062 - accuracy: 0.8374\n",
      "Epoch 21/50\n",
      "800/800 [==============================] - 1s 907us/step - loss: 0.4126 - accuracy: 0.8321\n",
      "Epoch 22/50\n",
      "800/800 [==============================] - 1s 823us/step - loss: 0.4020 - accuracy: 0.8345\n",
      "Epoch 23/50\n",
      "800/800 [==============================] - 1s 823us/step - loss: 0.3916 - accuracy: 0.8430\n",
      "Epoch 24/50\n",
      "800/800 [==============================] - 1s 1ms/step - loss: 0.4022 - accuracy: 0.8342\n",
      "Epoch 25/50\n",
      "800/800 [==============================] - 1s 1ms/step - loss: 0.3980 - accuracy: 0.8406\n",
      "Epoch 26/50\n",
      "800/800 [==============================] - 1s 996us/step - loss: 0.4140 - accuracy: 0.8314\n",
      "Epoch 27/50\n",
      "800/800 [==============================] - 1s 962us/step - loss: 0.4068 - accuracy: 0.8295\n",
      "Epoch 28/50\n",
      "800/800 [==============================] - 1s 1ms/step - loss: 0.4067 - accuracy: 0.8326\n",
      "Epoch 29/50\n",
      "800/800 [==============================] - 1s 1ms/step - loss: 0.4044 - accuracy: 0.8342\n",
      "Epoch 30/50\n",
      "800/800 [==============================] - 1s 1ms/step - loss: 0.3944 - accuracy: 0.8366\n",
      "Epoch 31/50\n",
      "800/800 [==============================] - 1s 1ms/step - loss: 0.3929 - accuracy: 0.8410\n",
      "Epoch 32/50\n",
      "800/800 [==============================] - 1s 1ms/step - loss: 0.3849 - accuracy: 0.8438\n",
      "Epoch 33/50\n",
      "800/800 [==============================] - 1s 1ms/step - loss: 0.4014 - accuracy: 0.8348\n",
      "Epoch 34/50\n",
      "800/800 [==============================] - 1s 1ms/step - loss: 0.4120 - accuracy: 0.8324\n",
      "Epoch 35/50\n",
      "800/800 [==============================] - 1s 1ms/step - loss: 0.4058 - accuracy: 0.8324\n",
      "Epoch 36/50\n",
      "800/800 [==============================] - 1s 1ms/step - loss: 0.4177 - accuracy: 0.8288\n",
      "Epoch 37/50\n",
      "800/800 [==============================] - 1s 1ms/step - loss: 0.3959 - accuracy: 0.8383\n",
      "Epoch 38/50\n",
      "800/800 [==============================] - 1s 1ms/step - loss: 0.3948 - accuracy: 0.8334\n",
      "Epoch 39/50\n",
      "800/800 [==============================] - 1s 1ms/step - loss: 0.3950 - accuracy: 0.8407\n",
      "Epoch 40/50\n",
      "800/800 [==============================] - 1s 1ms/step - loss: 0.3935 - accuracy: 0.8373\n",
      "Epoch 41/50\n",
      "800/800 [==============================] - 1s 1ms/step - loss: 0.3935 - accuracy: 0.8342\n",
      "Epoch 42/50\n",
      "800/800 [==============================] - 1s 1ms/step - loss: 0.4160 - accuracy: 0.8299\n",
      "Epoch 43/50\n",
      "800/800 [==============================] - 1s 997us/step - loss: 0.4122 - accuracy: 0.8340\n",
      "Epoch 44/50\n",
      "800/800 [==============================] - 1s 1ms/step - loss: 0.4047 - accuracy: 0.8297\n",
      "Epoch 45/50\n",
      "800/800 [==============================] - 1s 988us/step - loss: 0.4114 - accuracy: 0.8269\n",
      "Epoch 46/50\n",
      "800/800 [==============================] - 1s 992us/step - loss: 0.4103 - accuracy: 0.8343\n",
      "Epoch 47/50\n",
      "800/800 [==============================] - 1s 1ms/step - loss: 0.3965 - accuracy: 0.8408\n",
      "Epoch 48/50\n",
      "800/800 [==============================] - 1s 961us/step - loss: 0.4023 - accuracy: 0.8346\n",
      "Epoch 49/50\n",
      "800/800 [==============================] - 1s 947us/step - loss: 0.4043 - accuracy: 0.8335\n",
      "Epoch 50/50\n",
      "800/800 [==============================] - 1s 903us/step - loss: 0.4000 - accuracy: 0.8322\n"
     ]
    },
    {
     "data": {
      "text/plain": [
       "<keras.callbacks.History at 0x1f6c515d520>"
      ]
     },
     "execution_count": 14,
     "metadata": {},
     "output_type": "execute_result"
    }
   ],
   "source": [
    "# Fitting the network\n",
    "classifier.fit(X_train, y_train, batch_size=10, epochs=50)"
   ]
  },
  {
   "cell_type": "code",
   "execution_count": 16,
   "id": "08d67ccc",
   "metadata": {},
   "outputs": [],
   "source": [
    "# Predicting the outputs\n",
    "y_pred = classifier.predict(X_test)\n",
    "y_pred = (y_pred > 0.5)"
   ]
  },
  {
   "cell_type": "code",
   "execution_count": 17,
   "id": "1702de66",
   "metadata": {},
   "outputs": [],
   "source": [
    "# Making the confusion matrix\n",
    "from sklearn.metrics import confusion_matrix, accuracy_score\n",
    "cm = confusion_matrix(y_test, y_pred)\n",
    "accuracy = accuracy_score(y_test, y_pred)"
   ]
  },
  {
   "cell_type": "code",
   "execution_count": 19,
   "id": "be7dd8ff",
   "metadata": {},
   "outputs": [
    {
     "name": "stdout",
     "output_type": "stream",
     "text": [
      "[[1550   45]\n",
      " [ 268  137]]\n"
     ]
    }
   ],
   "source": [
    "print(cm)"
   ]
  },
  {
   "cell_type": "code",
   "execution_count": 20,
   "id": "634a6009",
   "metadata": {},
   "outputs": [
    {
     "name": "stdout",
     "output_type": "stream",
     "text": [
      "0.8435\n"
     ]
    }
   ],
   "source": [
    "print(accuracy)"
   ]
  }
 ],
 "metadata": {
  "kernelspec": {
   "display_name": "Python 3 (ipykernel)",
   "language": "python",
   "name": "python3"
  },
  "language_info": {
   "codemirror_mode": {
    "name": "ipython",
    "version": 3
   },
   "file_extension": ".py",
   "mimetype": "text/x-python",
   "name": "python",
   "nbconvert_exporter": "python",
   "pygments_lexer": "ipython3",
   "version": "3.8.10"
  }
 },
 "nbformat": 4,
 "nbformat_minor": 5
}
